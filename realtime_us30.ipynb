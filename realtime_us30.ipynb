{
 "cells": [
  {
   "cell_type": "code",
   "execution_count": 4,
   "metadata": {},
   "outputs": [
    {
     "name": "stdout",
     "output_type": "stream",
     "text": [
      "31\n"
     ]
    }
   ],
   "source": [
    "from ibapi.contract import Contract\n",
    "from ibapi.client import EClient\n",
    "from ibapi.wrapper import EWrapper\n",
    "import psycopg2\n",
    "import threading\n",
    "from time import sleep\n",
    "import pandas as pd\n",
    "DB_HOST = 'localhost'\n",
    "DB_NAME = 'us'\n",
    "DB_USER = 'postgres'\n",
    "DB_PASS = 'buddyrich134'\n",
    "conn = psycopg2.connect(host=DB_HOST, dbname=DB_NAME, user=DB_USER, password=DB_PASS)\n",
    "cursor = conn.cursor()\n",
    "cursor.execute(\"SELECT distinct code from public.maincode where listed = 'us30';\")\n",
    "conn.commit()\n",
    "code_list = [i[0] for i in cursor.fetchall()]\n",
    "if 'DIA' not in code_list:\n",
    "    code_list = code_list + ['DIA']\n",
    "print(len(code_list))\n",
    "# try:\n",
    "#     app.disconnect()\n",
    "# except:\n",
    "#     pass\n",
    "class IBapi(EWrapper, EClient):\n",
    "    def __init__(self):\n",
    "        EClient.__init__(self, self)\n",
    "        self.df = []\n",
    "        self.minute = -1\n",
    "        self.count = 0\n",
    "        self.req_id_to_contract = {}\n",
    "\n",
    "    def realtimeBar(self, reqId, time, open_, high, low, close, volume, wap, count):\n",
    "        timestamp_utc = pd.to_datetime(time, unit='s', utc=True)\n",
    "        tz = 'America/New_York'\n",
    "        da = timestamp_utc.tz_convert(tz).strftime(\"%Y-%m-%d %H:%M:%S\")\n",
    "        # print(close, da, reqId)\n",
    "        code = code_list[reqId-1]\n",
    "        print(time, code, close)\n",
    "        if da[-2:] == '00':\n",
    "            self.df.append([da, code, close, wap, volume])\n",
    "            \n",
    "def run_loop():\n",
    "    app.run()\n",
    "\n",
    "app = IBapi()\n",
    "app.connect('127.0.0.1', 7496, 1111)\n",
    "api_thread = threading.Thread(target=run_loop, daemon=True)\n",
    "api_thread.start()\n",
    "reqID = 110\n",
    "for symbol in ['AAPL', \"DIA\"]:\n",
    "    contract = Contract()\n",
    "    contract.symbol = symbol\n",
    "    contract.secType = 'STK'\n",
    "    contract.exchange = 'SMART'\n",
    "    contract.currency = 'USD'\n",
    "    if symbol == \"CAT\":\n",
    "        contract.exchange = 'NYSE'\n",
    "\n",
    "    app.reqRealTimeBars(reqId=reqID, contract=contract, barSize=5, whatToShow=\"MIDPOINT\", useRTH=0, realTimeBarsOptions=[])\n",
    "    reqID += 1"
   ]
  },
  {
   "cell_type": "code",
   "execution_count": 15,
   "metadata": {},
   "outputs": [
    {
     "name": "stdout",
     "output_type": "stream",
     "text": [
      "market not open, app.df has len 0\n",
      "2024-09-09 10:47:55.837533952\n"
     ]
    }
   ],
   "source": [
    "import pandas as pd\n",
    "from ibapi.contract import Contract\n",
    "from ibapi.order import Order\n",
    "from ibapi.client import EClient\n",
    "from ibapi.wrapper import EWrapper\n",
    "from datetime import datetime\n",
    "import threading\n",
    "import time\n",
    "from IPython.display import display, clear_output\n",
    "import psycopg2\n",
    "# Assuming app and backtest_code are already defined\n",
    "class ContinuousProcessor:\n",
    "    def __init__(self):\n",
    "        self.index_da = None\n",
    "        self.lock = threading.Lock()\n",
    "        self.running = True\n",
    "        self.reqId = 250\n",
    "        \n",
    "        self.conn = self.get_db_connection()\n",
    "        self.cursor = self.conn.cursor()\n",
    "\n",
    "        self.reqId += 1\n",
    "    def get_db_connection(self):\n",
    "        DB_HOST = 'localhost'\n",
    "        DB_NAME = 'us'\n",
    "        DB_USER = 'postgres'\n",
    "        DB_PASS = 'buddyrich134'\n",
    "        conn = psycopg2.connect(host=DB_HOST, dbname=DB_NAME, user=DB_USER, password=DB_PASS)\n",
    "        return conn\n",
    "    def backtest_code(self, pivoted, code, rolling=5, benchmark_index='DIA'):\n",
    "        return None\n",
    "    def orderStatus(self, orderId, status: str, filled,\n",
    "                         remaining, avgFillPrice: float, permId: int,\n",
    "                         parentId: int, lastFillPrice: float, clientId: int,\n",
    "                         whyHeld: str, mktCapPrice: float):\n",
    "        super().orderStatus(orderId, status, filled, remaining,\n",
    "                            avgFillPrice, permId, parentId, lastFillPrice, clientId, whyHeld, mktCapPrice)\n",
    "        print(orderId, status, filled, remaining, avgFillPrice, permId, parentId, lastFillPrice, whyHeld)\n",
    "    def continuous_loop(self):\n",
    "        while self.running:\n",
    "            clear_output(wait=True)\n",
    "            if len(app.df) == 0: \n",
    "                print(\"market not open, app.df has len 0\")\n",
    "                print(pd.to_datetime(time.time()*1000000000))\n",
    "                time.sleep(10)\n",
    "                continue\n",
    "            df = pd.DataFrame(app.df[-2000:], columns=['da', 'code', 'cl', 'wap', 'volume'])\n",
    "            df = df.pivot(values='cl', columns='code', index='da').sort_index(ascending=True)\n",
    "            index = df.index[-1]\n",
    "            if len(df) >= 5 and self.index_da != index:\n",
    "                self.index_da = index\n",
    "                display(f'Running analysis for index: {self.index_da}')\n",
    "                for code in df.columns:\n",
    "                    if code == \"DIA\":\n",
    "                        continue\n",
    "                    self.backtest_code(df[['DIA', code]], code)\n",
    "                ####\n",
    "                time.sleep(30)\n",
    "                pd.DataFrame(app.df[-2000:], columns=['da', 'code', 'cl', 'wap', 'volume']).to_parquet(\"US100.parquet\")\n",
    "                \n",
    "                self.cursor.execute(\"SELECT da from public.stock_price order by da desc limit 1;\")\n",
    "                self.conn.commit()\n",
    "                \n",
    "                try:\n",
    "                    da = self.cursor.fetchone()[0]\n",
    "                    print(da)\n",
    "                    insert_df = pd.DataFrame(app.df[-500:], columns=['da', 'code', 'cl', 'wap', 'volume'])\n",
    "                    insert_df = insert_df[pd.to_datetime(insert_df['da']) > da]\n",
    "                except:\n",
    "                    insert_df = pd.DataFrame(app.df[:], columns=['da', 'code', 'cl', 'wap', 'volume'])\n",
    "                self.cursor.executemany(\"INSERT INTO public.stock_price (da, code, cl, wap, vol) VALUES (%s, %s, %s, %s, %s);\", insert_df.values.tolist())\n",
    "                self.conn.commit()\n",
    "            else:\n",
    "                print(pd.to_datetime(time.time()*1000000000), f\"len(data) = {len(df)}\")\n",
    "                time.sleep(10)\n",
    "                ####\n",
    "\n",
    "    def stop(self):\n",
    "        self.running = False\n",
    "\n",
    "processor = ContinuousProcessor()\n",
    "loop_thread = threading.Thread(target=processor.continuous_loop, daemon=True)\n",
    "loop_thread.start()"
   ]
  },
  {
   "cell_type": "code",
   "execution_count": 14,
   "metadata": {},
   "outputs": [
    {
     "data": {
      "text/plain": [
       "[]"
      ]
     },
     "execution_count": 14,
     "metadata": {},
     "output_type": "execute_result"
    }
   ],
   "source": [
    "app.df"
   ]
  }
 ],
 "metadata": {
  "kernelspec": {
   "display_name": "Python 3",
   "language": "python",
   "name": "python3"
  },
  "language_info": {
   "codemirror_mode": {
    "name": "ipython",
    "version": 3
   },
   "file_extension": ".py",
   "mimetype": "text/x-python",
   "name": "python",
   "nbconvert_exporter": "python",
   "pygments_lexer": "ipython3",
   "version": "3.9.6"
  }
 },
 "nbformat": 4,
 "nbformat_minor": 2
}
